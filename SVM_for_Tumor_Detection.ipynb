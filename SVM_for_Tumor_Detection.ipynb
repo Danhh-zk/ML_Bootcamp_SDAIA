{
  "nbformat": 4,
  "nbformat_minor": 0,
  "metadata": {
    "colab": {
      "provenance": [],
      "include_colab_link": true
    },
    "kernelspec": {
      "name": "python3",
      "display_name": "Python 3"
    },
    "language_info": {
      "name": "python"
    }
  },
  "cells": [
    {
      "cell_type": "markdown",
      "metadata": {
        "id": "view-in-github",
        "colab_type": "text"
      },
      "source": [
        "<a href=\"https://colab.research.google.com/github/Danhh-zk/ML_Bootcamp_SDAIA/blob/main/SVM_for_Tumor_Detection.ipynb\" target=\"_parent\"><img src=\"https://colab.research.google.com/assets/colab-badge.svg\" alt=\"Open In Colab\"/></a>"
      ]
    },
    {
      "cell_type": "markdown",
      "metadata": {
        "id": "rhwdkcJr5YZS"
      },
      "source": [
        "# **Support Vector Machine for Tumor Detection**\n",
        "\n",
        "---\n",
        "\n",
        "\n",
        "**Objective:** In this exercise, we will train a Machine Learning Model using Support Vector Machine algorithm from the scikit library, to implement a classification model on a breast cancer dataset.\n",
        "\n",
        "We will be classifying if a tumor is (2) Benign or (4) Malignant from these inputs:\n",
        "\n",
        "*   Clump Thickness (1-10)\n",
        "*   Uniformity of Cell Size (1-10)\n",
        "*   Uniformity of Cell Shape (1-10)\n",
        "\n",
        "\n",
        "\n",
        "\n",
        "\n"
      ]
    },
    {
      "cell_type": "markdown",
      "metadata": {
        "id": "2igl0cIT61t-"
      },
      "source": [
        "# Importing Needed Libraries:\n",
        "\n",
        "* numpy: for scientific computing\n",
        "* matplotlib: for plotting and visualization\n",
        "* pandas: for data reading and manipulation\n",
        "\n",
        "\n"
      ]
    },
    {
      "cell_type": "code",
      "metadata": {
        "id": "HHL2azdc06yo"
      },
      "source": [
        "import numpy as np\n",
        "import matplotlib.pyplot as plt\n",
        "import pandas as pd"
      ],
      "execution_count": null,
      "outputs": []
    },
    {
      "cell_type": "markdown",
      "metadata": {
        "id": "kbvcpyvJ7_XV"
      },
      "source": [
        "# Importing the Dataset\n"
      ]
    },
    {
      "cell_type": "markdown",
      "source": [
        "\n",
        "The Data is currently stored in a CSV file named **breast-cancer-wisconsin.csv**"
      ],
      "metadata": {
        "id": "X-v3sXKRlORH"
      }
    },
    {
      "cell_type": "code",
      "metadata": {
        "id": "-Tua4-9c9Iq4",
        "colab": {
          "base_uri": "https://localhost:8080/",
          "height": 206
        },
        "outputId": "975740f4-0503-4312-9bf2-a2586ccae96f"
      },
      "source": [
        "data = pd.read_csv('breast-cancer-wisconsin.csv') #Read the Data file\n",
        "data.head() #Prints the first 5 rows of the data"
      ],
      "execution_count": null,
      "outputs": [
        {
          "output_type": "execute_result",
          "data": {
            "text/plain": [
              "        ID  Clump Thickness  Uniformity of Cell Size  \\\n",
              "0  1000025                5                        1   \n",
              "1  1002945                5                        4   \n",
              "2  1015425                3                        1   \n",
              "3  1016277                6                        8   \n",
              "4  1017023                4                        1   \n",
              "\n",
              "   Uniformity of Cell Shape  Benign (2) or Malignant (4)  \n",
              "0                         1                            2  \n",
              "1                         4                            2  \n",
              "2                         1                            2  \n",
              "3                         8                            2  \n",
              "4                         1                            2  "
            ],
            "text/html": [
              "\n",
              "  <div id=\"df-5b9532bf-7518-4fb9-83d2-ffe234c0d681\" class=\"colab-df-container\">\n",
              "    <div>\n",
              "<style scoped>\n",
              "    .dataframe tbody tr th:only-of-type {\n",
              "        vertical-align: middle;\n",
              "    }\n",
              "\n",
              "    .dataframe tbody tr th {\n",
              "        vertical-align: top;\n",
              "    }\n",
              "\n",
              "    .dataframe thead th {\n",
              "        text-align: right;\n",
              "    }\n",
              "</style>\n",
              "<table border=\"1\" class=\"dataframe\">\n",
              "  <thead>\n",
              "    <tr style=\"text-align: right;\">\n",
              "      <th></th>\n",
              "      <th>ID</th>\n",
              "      <th>Clump Thickness</th>\n",
              "      <th>Uniformity of Cell Size</th>\n",
              "      <th>Uniformity of Cell Shape</th>\n",
              "      <th>Benign (2) or Malignant (4)</th>\n",
              "    </tr>\n",
              "  </thead>\n",
              "  <tbody>\n",
              "    <tr>\n",
              "      <th>0</th>\n",
              "      <td>1000025</td>\n",
              "      <td>5</td>\n",
              "      <td>1</td>\n",
              "      <td>1</td>\n",
              "      <td>2</td>\n",
              "    </tr>\n",
              "    <tr>\n",
              "      <th>1</th>\n",
              "      <td>1002945</td>\n",
              "      <td>5</td>\n",
              "      <td>4</td>\n",
              "      <td>4</td>\n",
              "      <td>2</td>\n",
              "    </tr>\n",
              "    <tr>\n",
              "      <th>2</th>\n",
              "      <td>1015425</td>\n",
              "      <td>3</td>\n",
              "      <td>1</td>\n",
              "      <td>1</td>\n",
              "      <td>2</td>\n",
              "    </tr>\n",
              "    <tr>\n",
              "      <th>3</th>\n",
              "      <td>1016277</td>\n",
              "      <td>6</td>\n",
              "      <td>8</td>\n",
              "      <td>8</td>\n",
              "      <td>2</td>\n",
              "    </tr>\n",
              "    <tr>\n",
              "      <th>4</th>\n",
              "      <td>1017023</td>\n",
              "      <td>4</td>\n",
              "      <td>1</td>\n",
              "      <td>1</td>\n",
              "      <td>2</td>\n",
              "    </tr>\n",
              "  </tbody>\n",
              "</table>\n",
              "</div>\n",
              "    <div class=\"colab-df-buttons\">\n",
              "\n",
              "  <div class=\"colab-df-container\">\n",
              "    <button class=\"colab-df-convert\" onclick=\"convertToInteractive('df-5b9532bf-7518-4fb9-83d2-ffe234c0d681')\"\n",
              "            title=\"Convert this dataframe to an interactive table.\"\n",
              "            style=\"display:none;\">\n",
              "\n",
              "  <svg xmlns=\"http://www.w3.org/2000/svg\" height=\"24px\" viewBox=\"0 -960 960 960\">\n",
              "    <path d=\"M120-120v-720h720v720H120Zm60-500h600v-160H180v160Zm220 220h160v-160H400v160Zm0 220h160v-160H400v160ZM180-400h160v-160H180v160Zm440 0h160v-160H620v160ZM180-180h160v-160H180v160Zm440 0h160v-160H620v160Z\"/>\n",
              "  </svg>\n",
              "    </button>\n",
              "\n",
              "  <style>\n",
              "    .colab-df-container {\n",
              "      display:flex;\n",
              "      gap: 12px;\n",
              "    }\n",
              "\n",
              "    .colab-df-convert {\n",
              "      background-color: #E8F0FE;\n",
              "      border: none;\n",
              "      border-radius: 50%;\n",
              "      cursor: pointer;\n",
              "      display: none;\n",
              "      fill: #1967D2;\n",
              "      height: 32px;\n",
              "      padding: 0 0 0 0;\n",
              "      width: 32px;\n",
              "    }\n",
              "\n",
              "    .colab-df-convert:hover {\n",
              "      background-color: #E2EBFA;\n",
              "      box-shadow: 0px 1px 2px rgba(60, 64, 67, 0.3), 0px 1px 3px 1px rgba(60, 64, 67, 0.15);\n",
              "      fill: #174EA6;\n",
              "    }\n",
              "\n",
              "    .colab-df-buttons div {\n",
              "      margin-bottom: 4px;\n",
              "    }\n",
              "\n",
              "    [theme=dark] .colab-df-convert {\n",
              "      background-color: #3B4455;\n",
              "      fill: #D2E3FC;\n",
              "    }\n",
              "\n",
              "    [theme=dark] .colab-df-convert:hover {\n",
              "      background-color: #434B5C;\n",
              "      box-shadow: 0px 1px 3px 1px rgba(0, 0, 0, 0.15);\n",
              "      filter: drop-shadow(0px 1px 2px rgba(0, 0, 0, 0.3));\n",
              "      fill: #FFFFFF;\n",
              "    }\n",
              "  </style>\n",
              "\n",
              "    <script>\n",
              "      const buttonEl =\n",
              "        document.querySelector('#df-5b9532bf-7518-4fb9-83d2-ffe234c0d681 button.colab-df-convert');\n",
              "      buttonEl.style.display =\n",
              "        google.colab.kernel.accessAllowed ? 'block' : 'none';\n",
              "\n",
              "      async function convertToInteractive(key) {\n",
              "        const element = document.querySelector('#df-5b9532bf-7518-4fb9-83d2-ffe234c0d681');\n",
              "        const dataTable =\n",
              "          await google.colab.kernel.invokeFunction('convertToInteractive',\n",
              "                                                    [key], {});\n",
              "        if (!dataTable) return;\n",
              "\n",
              "        const docLinkHtml = 'Like what you see? Visit the ' +\n",
              "          '<a target=\"_blank\" href=https://colab.research.google.com/notebooks/data_table.ipynb>data table notebook</a>'\n",
              "          + ' to learn more about interactive tables.';\n",
              "        element.innerHTML = '';\n",
              "        dataTable['output_type'] = 'display_data';\n",
              "        await google.colab.output.renderOutput(dataTable, element);\n",
              "        const docLink = document.createElement('div');\n",
              "        docLink.innerHTML = docLinkHtml;\n",
              "        element.appendChild(docLink);\n",
              "      }\n",
              "    </script>\n",
              "  </div>\n",
              "\n",
              "\n",
              "<div id=\"df-c178f2ff-a765-478c-80ee-3d54bc976ef1\">\n",
              "  <button class=\"colab-df-quickchart\" onclick=\"quickchart('df-c178f2ff-a765-478c-80ee-3d54bc976ef1')\"\n",
              "            title=\"Suggest charts\"\n",
              "            style=\"display:none;\">\n",
              "\n",
              "<svg xmlns=\"http://www.w3.org/2000/svg\" height=\"24px\"viewBox=\"0 0 24 24\"\n",
              "     width=\"24px\">\n",
              "    <g>\n",
              "        <path d=\"M19 3H5c-1.1 0-2 .9-2 2v14c0 1.1.9 2 2 2h14c1.1 0 2-.9 2-2V5c0-1.1-.9-2-2-2zM9 17H7v-7h2v7zm4 0h-2V7h2v10zm4 0h-2v-4h2v4z\"/>\n",
              "    </g>\n",
              "</svg>\n",
              "  </button>\n",
              "\n",
              "<style>\n",
              "  .colab-df-quickchart {\n",
              "      --bg-color: #E8F0FE;\n",
              "      --fill-color: #1967D2;\n",
              "      --hover-bg-color: #E2EBFA;\n",
              "      --hover-fill-color: #174EA6;\n",
              "      --disabled-fill-color: #AAA;\n",
              "      --disabled-bg-color: #DDD;\n",
              "  }\n",
              "\n",
              "  [theme=dark] .colab-df-quickchart {\n",
              "      --bg-color: #3B4455;\n",
              "      --fill-color: #D2E3FC;\n",
              "      --hover-bg-color: #434B5C;\n",
              "      --hover-fill-color: #FFFFFF;\n",
              "      --disabled-bg-color: #3B4455;\n",
              "      --disabled-fill-color: #666;\n",
              "  }\n",
              "\n",
              "  .colab-df-quickchart {\n",
              "    background-color: var(--bg-color);\n",
              "    border: none;\n",
              "    border-radius: 50%;\n",
              "    cursor: pointer;\n",
              "    display: none;\n",
              "    fill: var(--fill-color);\n",
              "    height: 32px;\n",
              "    padding: 0;\n",
              "    width: 32px;\n",
              "  }\n",
              "\n",
              "  .colab-df-quickchart:hover {\n",
              "    background-color: var(--hover-bg-color);\n",
              "    box-shadow: 0 1px 2px rgba(60, 64, 67, 0.3), 0 1px 3px 1px rgba(60, 64, 67, 0.15);\n",
              "    fill: var(--button-hover-fill-color);\n",
              "  }\n",
              "\n",
              "  .colab-df-quickchart-complete:disabled,\n",
              "  .colab-df-quickchart-complete:disabled:hover {\n",
              "    background-color: var(--disabled-bg-color);\n",
              "    fill: var(--disabled-fill-color);\n",
              "    box-shadow: none;\n",
              "  }\n",
              "\n",
              "  .colab-df-spinner {\n",
              "    border: 2px solid var(--fill-color);\n",
              "    border-color: transparent;\n",
              "    border-bottom-color: var(--fill-color);\n",
              "    animation:\n",
              "      spin 1s steps(1) infinite;\n",
              "  }\n",
              "\n",
              "  @keyframes spin {\n",
              "    0% {\n",
              "      border-color: transparent;\n",
              "      border-bottom-color: var(--fill-color);\n",
              "      border-left-color: var(--fill-color);\n",
              "    }\n",
              "    20% {\n",
              "      border-color: transparent;\n",
              "      border-left-color: var(--fill-color);\n",
              "      border-top-color: var(--fill-color);\n",
              "    }\n",
              "    30% {\n",
              "      border-color: transparent;\n",
              "      border-left-color: var(--fill-color);\n",
              "      border-top-color: var(--fill-color);\n",
              "      border-right-color: var(--fill-color);\n",
              "    }\n",
              "    40% {\n",
              "      border-color: transparent;\n",
              "      border-right-color: var(--fill-color);\n",
              "      border-top-color: var(--fill-color);\n",
              "    }\n",
              "    60% {\n",
              "      border-color: transparent;\n",
              "      border-right-color: var(--fill-color);\n",
              "    }\n",
              "    80% {\n",
              "      border-color: transparent;\n",
              "      border-right-color: var(--fill-color);\n",
              "      border-bottom-color: var(--fill-color);\n",
              "    }\n",
              "    90% {\n",
              "      border-color: transparent;\n",
              "      border-bottom-color: var(--fill-color);\n",
              "    }\n",
              "  }\n",
              "</style>\n",
              "\n",
              "  <script>\n",
              "    async function quickchart(key) {\n",
              "      const quickchartButtonEl =\n",
              "        document.querySelector('#' + key + ' button');\n",
              "      quickchartButtonEl.disabled = true;  // To prevent multiple clicks.\n",
              "      quickchartButtonEl.classList.add('colab-df-spinner');\n",
              "      try {\n",
              "        const charts = await google.colab.kernel.invokeFunction(\n",
              "            'suggestCharts', [key], {});\n",
              "      } catch (error) {\n",
              "        console.error('Error during call to suggestCharts:', error);\n",
              "      }\n",
              "      quickchartButtonEl.classList.remove('colab-df-spinner');\n",
              "      quickchartButtonEl.classList.add('colab-df-quickchart-complete');\n",
              "    }\n",
              "    (() => {\n",
              "      let quickchartButtonEl =\n",
              "        document.querySelector('#df-c178f2ff-a765-478c-80ee-3d54bc976ef1 button');\n",
              "      quickchartButtonEl.style.display =\n",
              "        google.colab.kernel.accessAllowed ? 'block' : 'none';\n",
              "    })();\n",
              "  </script>\n",
              "</div>\n",
              "\n",
              "    </div>\n",
              "  </div>\n"
            ]
          },
          "metadata": {},
          "execution_count": 2
        }
      ]
    },
    {
      "cell_type": "markdown",
      "metadata": {
        "id": "AC6bVBdP_qzz"
      },
      "source": [
        "# Number of Rows and Columns:\n",
        "Let's dig and see the number of rows and columns in our data:"
      ]
    },
    {
      "cell_type": "code",
      "metadata": {
        "id": "JMTzHQsw9bkd",
        "colab": {
          "base_uri": "https://localhost:8080/"
        },
        "outputId": "ad9c751e-85bb-4d88-d3b3-54691cd7b334"
      },
      "source": [
        "n_rows = data.shape[0]\n",
        "n_columns = data.shape[1]\n",
        "print('There are ' + str(n_rows) + ' rows and ' + str(n_columns) + ' columns.')"
      ],
      "execution_count": null,
      "outputs": [
        {
          "output_type": "stream",
          "name": "stdout",
          "text": [
            "There are 684 rows and 5 columns.\n"
          ]
        }
      ]
    },
    {
      "cell_type": "markdown",
      "metadata": {
        "id": "rBkei2GjANAc"
      },
      "source": [
        "# Data Preprocessing:\n",
        "\n",
        "Data preprocessing involves dividing the data into features/attributes and labels, and then we will move to divide them into training and testing sets."
      ]
    },
    {
      "cell_type": "code",
      "metadata": {
        "id": "7A4BSx0PAdle"
      },
      "source": [
        "x = data.drop(['Benign (2) or Malignant (4)', 'ID'], axis = 1) #all the columns except the ID and Class columns are being stored as input\n",
        "y = data['Benign (2) or Malignant (4)']"
      ],
      "execution_count": null,
      "outputs": []
    },
    {
      "cell_type": "markdown",
      "metadata": {
        "id": "QbL-tQP8jIn5"
      },
      "source": [
        "Now we will split our data between training and testing by using the scikit learn library."
      ]
    },
    {
      "cell_type": "code",
      "metadata": {
        "id": "WJiQU6-wBfMP"
      },
      "source": [
        "#Scikit-Learn Library contains the train_test_split method that allows the division of data into train and test sets\n",
        "from sklearn.model_selection import train_test_split\n",
        "\n",
        "x_train, x_test, y_train, y_test = train_test_split(x, y, test_size = 0.20) #20% of the data is assigned for testing, and the rest for training"
      ],
      "execution_count": null,
      "outputs": []
    },
    {
      "cell_type": "markdown",
      "metadata": {
        "id": "4-9N8eF4CZX4"
      },
      "source": [
        "# Training the Algorithm: Linear SVM\n",
        "To train the SVM on the training data, we will use scikit-learn's svm library. This class takes the kernel type as parameter, and as a start we will use a 'linear' kernel for simplicity to see if we can seperate the data linearly, keeping non-linear kernels for the next section."
      ]
    },
    {
      "cell_type": "markdown",
      "metadata": {
        "id": "N8g6XzSPjxIa"
      },
      "source": [
        "SVC stands for Support Vector Classifier."
      ]
    },
    {
      "cell_type": "code",
      "metadata": {
        "id": "1TuUtVpT_-XJ",
        "colab": {
          "base_uri": "https://localhost:8080/",
          "height": 74
        },
        "outputId": "f9154ab1-cc42-44cf-9b87-9b0728e56868"
      },
      "source": [
        "from sklearn.svm import SVC\n",
        "svclassifier = SVC(kernel = 'linear')\n",
        "svclassifier.fit(x_train, y_train) #\"fit\" is called to train the algorithm on the training data"
      ],
      "execution_count": null,
      "outputs": [
        {
          "output_type": "execute_result",
          "data": {
            "text/plain": [
              "SVC(kernel='linear')"
            ],
            "text/html": [
              "<style>#sk-container-id-1 {color: black;background-color: white;}#sk-container-id-1 pre{padding: 0;}#sk-container-id-1 div.sk-toggleable {background-color: white;}#sk-container-id-1 label.sk-toggleable__label {cursor: pointer;display: block;width: 100%;margin-bottom: 0;padding: 0.3em;box-sizing: border-box;text-align: center;}#sk-container-id-1 label.sk-toggleable__label-arrow:before {content: \"▸\";float: left;margin-right: 0.25em;color: #696969;}#sk-container-id-1 label.sk-toggleable__label-arrow:hover:before {color: black;}#sk-container-id-1 div.sk-estimator:hover label.sk-toggleable__label-arrow:before {color: black;}#sk-container-id-1 div.sk-toggleable__content {max-height: 0;max-width: 0;overflow: hidden;text-align: left;background-color: #f0f8ff;}#sk-container-id-1 div.sk-toggleable__content pre {margin: 0.2em;color: black;border-radius: 0.25em;background-color: #f0f8ff;}#sk-container-id-1 input.sk-toggleable__control:checked~div.sk-toggleable__content {max-height: 200px;max-width: 100%;overflow: auto;}#sk-container-id-1 input.sk-toggleable__control:checked~label.sk-toggleable__label-arrow:before {content: \"▾\";}#sk-container-id-1 div.sk-estimator input.sk-toggleable__control:checked~label.sk-toggleable__label {background-color: #d4ebff;}#sk-container-id-1 div.sk-label input.sk-toggleable__control:checked~label.sk-toggleable__label {background-color: #d4ebff;}#sk-container-id-1 input.sk-hidden--visually {border: 0;clip: rect(1px 1px 1px 1px);clip: rect(1px, 1px, 1px, 1px);height: 1px;margin: -1px;overflow: hidden;padding: 0;position: absolute;width: 1px;}#sk-container-id-1 div.sk-estimator {font-family: monospace;background-color: #f0f8ff;border: 1px dotted black;border-radius: 0.25em;box-sizing: border-box;margin-bottom: 0.5em;}#sk-container-id-1 div.sk-estimator:hover {background-color: #d4ebff;}#sk-container-id-1 div.sk-parallel-item::after {content: \"\";width: 100%;border-bottom: 1px solid gray;flex-grow: 1;}#sk-container-id-1 div.sk-label:hover label.sk-toggleable__label {background-color: #d4ebff;}#sk-container-id-1 div.sk-serial::before {content: \"\";position: absolute;border-left: 1px solid gray;box-sizing: border-box;top: 0;bottom: 0;left: 50%;z-index: 0;}#sk-container-id-1 div.sk-serial {display: flex;flex-direction: column;align-items: center;background-color: white;padding-right: 0.2em;padding-left: 0.2em;position: relative;}#sk-container-id-1 div.sk-item {position: relative;z-index: 1;}#sk-container-id-1 div.sk-parallel {display: flex;align-items: stretch;justify-content: center;background-color: white;position: relative;}#sk-container-id-1 div.sk-item::before, #sk-container-id-1 div.sk-parallel-item::before {content: \"\";position: absolute;border-left: 1px solid gray;box-sizing: border-box;top: 0;bottom: 0;left: 50%;z-index: -1;}#sk-container-id-1 div.sk-parallel-item {display: flex;flex-direction: column;z-index: 1;position: relative;background-color: white;}#sk-container-id-1 div.sk-parallel-item:first-child::after {align-self: flex-end;width: 50%;}#sk-container-id-1 div.sk-parallel-item:last-child::after {align-self: flex-start;width: 50%;}#sk-container-id-1 div.sk-parallel-item:only-child::after {width: 0;}#sk-container-id-1 div.sk-dashed-wrapped {border: 1px dashed gray;margin: 0 0.4em 0.5em 0.4em;box-sizing: border-box;padding-bottom: 0.4em;background-color: white;}#sk-container-id-1 div.sk-label label {font-family: monospace;font-weight: bold;display: inline-block;line-height: 1.2em;}#sk-container-id-1 div.sk-label-container {text-align: center;}#sk-container-id-1 div.sk-container {/* jupyter's `normalize.less` sets `[hidden] { display: none; }` but bootstrap.min.css set `[hidden] { display: none !important; }` so we also need the `!important` here to be able to override the default hidden behavior on the sphinx rendered scikit-learn.org. See: https://github.com/scikit-learn/scikit-learn/issues/21755 */display: inline-block !important;position: relative;}#sk-container-id-1 div.sk-text-repr-fallback {display: none;}</style><div id=\"sk-container-id-1\" class=\"sk-top-container\"><div class=\"sk-text-repr-fallback\"><pre>SVC(kernel=&#x27;linear&#x27;)</pre><b>In a Jupyter environment, please rerun this cell to show the HTML representation or trust the notebook. <br />On GitHub, the HTML representation is unable to render, please try loading this page with nbviewer.org.</b></div><div class=\"sk-container\" hidden><div class=\"sk-item\"><div class=\"sk-estimator sk-toggleable\"><input class=\"sk-toggleable__control sk-hidden--visually\" id=\"sk-estimator-id-1\" type=\"checkbox\" checked><label for=\"sk-estimator-id-1\" class=\"sk-toggleable__label sk-toggleable__label-arrow\">SVC</label><div class=\"sk-toggleable__content\"><pre>SVC(kernel=&#x27;linear&#x27;)</pre></div></div></div></div></div>"
            ]
          },
          "metadata": {},
          "execution_count": 6
        }
      ]
    },
    {
      "cell_type": "markdown",
      "metadata": {
        "id": "f9mS69qtD5FD"
      },
      "source": [
        "# Predictions:\n",
        "In order to make predictions, we will use \"predict\" from the svc class:"
      ]
    },
    {
      "cell_type": "code",
      "metadata": {
        "id": "zgwExA-3DyQe"
      },
      "source": [
        "y_pred = svclassifier.predict(x_test)"
      ],
      "execution_count": null,
      "outputs": []
    },
    {
      "cell_type": "markdown",
      "metadata": {
        "id": "STezhhXCESE-"
      },
      "source": [
        "# Evaluating our Algorithm\n",
        "We will be using an accuracy based metric to evaluate our algorithm:"
      ]
    },
    {
      "cell_type": "code",
      "metadata": {
        "id": "QGpUG-diERCk",
        "colab": {
          "base_uri": "https://localhost:8080/"
        },
        "outputId": "3361b2c0-8d89-44bd-fb9b-aedf5c78b8f7"
      },
      "source": [
        "from sklearn.metrics import accuracy_score\n",
        "print (\"Our model predicts the test set with \" + str( 100*accuracy_score(y_test,y_pred) ) +\"% accuracy\")"
      ],
      "execution_count": null,
      "outputs": [
        {
          "output_type": "stream",
          "name": "stdout",
          "text": [
            "Our model predicts the test set with 95.62043795620438% accuracy\n"
          ]
        }
      ]
    },
    {
      "cell_type": "markdown",
      "metadata": {
        "id": "nA4r5MpcIXOf"
      },
      "source": [
        "# Plotting the SVM:\n",
        "We will be using the matplotlib.pyplot library to plot the results of our predictions on the test set with the decision boundary:"
      ]
    },
    {
      "cell_type": "markdown",
      "metadata": {
        "id": "lS9PGq-ZkMSQ"
      },
      "source": [
        "The form of the decision boundary in an SVM Classification would be of the form a0 + a1 x + a2 y +a3 z = 0\n",
        "\n",
        "Given that the 3 features x, y, and z are respectively the \"Clump Thickness\" \"Uniformity of Cell Size\" and the \"Uniformity of Cell Shape\"."
      ]
    },
    {
      "cell_type": "markdown",
      "metadata": {
        "id": "sgZEWiRDlLKv"
      },
      "source": [
        "To draw this equation, we will change its form to be: z = a x + by + c\n",
        "<br>Where:\n",
        "\n",
        "*   a = -a1/a3\n",
        "*   b = -a2/a3\n",
        "*   c = -a0/a3\n",
        "\n"
      ]
    },
    {
      "cell_type": "code",
      "metadata": {
        "colab": {
          "base_uri": "https://localhost:8080/",
          "height": 428
        },
        "id": "foiHnlw5kxtb",
        "outputId": "3cbbea70-23cd-4d99-bcb1-adeadb623d29"
      },
      "source": [
        "#Capture the coefficients of the features x, and y (which are a1, and a2)\n",
        "coefficients = svclassifier.coef_[0]\n",
        "\n",
        "#Get the intercept (which is a0)\n",
        "intercept = svclassifier.intercept_[0]\n",
        "\n",
        "a0 = intercept\n",
        "a1 = coefficients[0] # The 1st feature : Clump Thickness\n",
        "a2 = coefficients[1] # The 2nd feature : Uniformity of Cell Size\n",
        "a3 = coefficients[2] # The 3rd feature : Uniformity of Cell Shape\n",
        "\n",
        "a = -a1/a3\n",
        "b = -a2/a3\n",
        "c = -a0/a3\n",
        "\n",
        "fig = plt.figure()\n",
        "ax = plt.axes(projection='3d') #note: we're plotting in a 3D space\n",
        "\n",
        "#Plot the dataPoints\n",
        "data_x = np.array(x_test)[:,0] # Clump Thickness\n",
        "data_y = np.array(x_test)[:,1] # Uniformity of Cell Size\n",
        "data_z = np.array(x_test)[:,2] # Uniformity of Cell Shape\n",
        "ax.scatter3D(data_x, data_y, data_z, c=y_pred, cmap=plt.cm.coolwarm)\n",
        "\n",
        "#Now we will plot z = ax + by + c (the separator / decision boundary - aka the model - learned by the SVC algorithm)\n",
        "x_min, x_max = data_x.min() - 1, data_x.max() + 1\n",
        "y_min, y_max = data_y.min() - 1, data_y.max() + 1\n",
        "xx, yy = np.meshgrid(np.arange(x_min, x_max, .2), np.arange(y_min, y_max, .2))\n",
        "zz = a*xx + b*yy + c\n",
        "\n",
        "ax.plot_surface(xx, yy, zz, rstride=1, cstride=1, cmap='viridis', edgecolor='none' )"
      ],
      "execution_count": null,
      "outputs": [
        {
          "output_type": "execute_result",
          "data": {
            "text/plain": [
              "<mpl_toolkits.mplot3d.art3d.Poly3DCollection at 0x7ec4360994b0>"
            ]
          },
          "metadata": {},
          "execution_count": 9
        },
        {
          "output_type": "display_data",
          "data": {
            "text/plain": [
              "<Figure size 640x480 with 1 Axes>"
            ],
            "image/png": "[encoded data removed]"
          },
          "metadata": {}
        }
      ]
    },
    {
      "cell_type": "markdown",
      "metadata": {
        "id": "acy6cFNARk6X"
      },
      "source": [
        "As seen above, the data is clearly linearly seperable."
      ]
    }
  ]
}